{
 "cells": [
  {
   "cell_type": "code",
   "execution_count": 1,
   "id": "9cde03a2",
   "metadata": {},
   "outputs": [],
   "source": [
    "import pandas as pd\n",
    "import numpy as np\n",
    "import matplotlib.pyplot as plt\n",
    "from statsmodels.stats.outliers_influence import variance_inflation_factor\n",
    "import csv\n",
    "import seaborn as sns\n",
    "import sklearn.metrics\n",
    "from sklearn.model_selection import train_test_split\n",
    "from imblearn.over_sampling import SMOTE\n",
    "from imblearn.under_sampling import NearMiss\n",
    "from sklearn.linear_model import LogisticRegression\n",
    "from sklearn.ensemble import RandomForestClassifier\n",
    "from sklearn import svm\n",
    "from sklearn.model_selection import GridSearchCV,cross_val_score\n",
    "from sklearn.svm import SVC\n",
    "from sklearn.feature_selection import RFECV\n",
    "from sklearn.metrics import roc_auc_score, roc_curve, precision_recall_curve, confusion_matrix, accuracy_score, auc \n",
    "from sklearn.preprocessing import StandardScaler\n",
    "import xgboost as xgb\n",
    "import tensorflow as tf\n",
    "from tensorflow.keras.models import Sequential\n",
    "from tensorflow.keras.layers import Dense\n",
    "from tensorflow.keras.utils import to_categorical\n",
    "from sklearn.discriminant_analysis import LinearDiscriminantAnalysis, QuadraticDiscriminantAnalysis \n",
    "from sklearn import svm\n",
    "from sklearn.svm import SVC\n",
    "import xgboost as xgb\n",
    "from sklearn.neighbors import KNeighborsClassifier\n",
    "from sklearn.naive_bayes import GaussianNB"
   ]
  },
  {
   "cell_type": "code",
   "execution_count": 2,
   "id": "cba9a01d",
   "metadata": {},
   "outputs": [],
   "source": [
    "headers = ['unit_number','time_in_cycles','setting_1','setting_2','setting_3','T2','T24','T30','T50','P2','P15','P30','Nf',\n",
    "           'Nc','epr','Ps30','phi','NRf','NRc','BPR','farB','htBleed','Nf_dmd','PCNfR_dmd','W31','W32']"
   ]
  },
  {
   "cell_type": "code",
   "execution_count": 3,
   "id": "8a26e4df",
   "metadata": {},
   "outputs": [],
   "source": [
    "#Simulation number\n",
    "i=1"
   ]
  },
  {
   "cell_type": "code",
   "execution_count": 4,
   "id": "0a6d8cc6",
   "metadata": {},
   "outputs": [],
   "source": [
    "train_file_path = 'train_FD00'+str(i)+'.txt'\n",
    "\n",
    "train_df=pd.read_csv(train_file_path, sep='\\s+', header=None, names=headers)\n",
    "train_df=train_df[train_df.columns[train_df.std()>0.00000001]]\n",
    "\n",
    "train_df['RUL']=(-1)*(train_df['time_in_cycles']-\n",
    "                                         train_df.groupby(\"unit_number\")['time_in_cycles'].transform('max'))\n"
   ]
  },
  {
   "cell_type": "code",
   "execution_count": 5,
   "id": "d7d865c6",
   "metadata": {},
   "outputs": [],
   "source": [
    "#0: not faulty, 1: last cycle of the engine, faulty\n",
    "\n",
    "train_df['faulty']=0    \n",
    "faulty_index=train_df['RUL']==0\n",
    "train_df.loc[faulty_index,'faulty']=1\n",
    "\n",
    "train_df_new=train_df.drop(columns=[\"RUL\",\"unit_number\",\"faulty\",\"P15\"])"
   ]
  },
  {
   "cell_type": "code",
   "execution_count": 6,
   "id": "60eb8d1d",
   "metadata": {},
   "outputs": [],
   "source": [
    "train, test = train_test_split(train_df, random_state=10, test_size = 0.2, stratify=train_df.faulty)\n",
    "X_train = train.drop(columns=[\"RUL\",\"unit_number\",\"faulty\",\"P15\"])   #for simulation 1\n",
    "y_train = train['faulty']\n",
    "X_test = test.drop(columns=[\"RUL\",\"unit_number\",\"faulty\",\"P15\"])\n",
    "y_test = test['faulty']"
   ]
  },
  {
   "cell_type": "code",
   "execution_count": 8,
   "id": "4d7ce6d9-cf8c-452d-89bb-35064f9ff258",
   "metadata": {},
   "outputs": [
    {
     "name": "stdout",
     "output_type": "stream",
     "text": [
      "Type I Error: 0.0007\n",
      "Type II Error: 0.8000\n",
      "Accuracy: 0.9953961715531864\n",
      "Balanced Accuracy: 0.5996347699050402\n"
     ]
    }
   ],
   "source": [
    "#Most of our observations are not faulty. To deal with that, balanced accuracy or undersampling can be used.\n",
    "\n",
    "logreg = LogisticRegression(solver='liblinear', random_state=42).fit(X_train, y_train)\n",
    "cm = confusion_matrix(logreg.predict(X_test),y_test)\n",
    "TP = cm[1,1]     \n",
    "TN = cm[0,0]\n",
    "FN = cm[0,1]\n",
    "FP = cm[1,0]\n",
    "N = TN+FP\n",
    "P = TP+FN\n",
    "#recall = TP / float(TP + FN)\n",
    "#precision = TP / float(TP + FP)\n",
    "\n",
    "print(f'Type I Error: {FP/N:.4f}')                 #minimize type II error\n",
    "print(f'Type II Error: {FN/P:.4f}')\n",
    "\n",
    "print(f'Accuracy: {accuracy_score(y_test, logreg.predict(X_test))}')\n",
    "#print(f'ROC AUC Score: {roc_auc_score(y_test, logreg.predict_proba(X_test)[:, 1])}')\n",
    "\n",
    "print(f'Balanced Accuracy: {(TP/P+TN/N)/2}')         #maximize balanced accuracy"
   ]
  },
  {
   "cell_type": "code",
   "execution_count": 9,
   "id": "ae27acc2",
   "metadata": {},
   "outputs": [
    {
     "data": {
      "text/plain": [
       "array([[4104,   16],\n",
       "       [   3,    4]], dtype=int64)"
      ]
     },
     "execution_count": 9,
     "metadata": {},
     "output_type": "execute_result"
    }
   ],
   "source": [
    "cm"
   ]
  },
  {
   "cell_type": "code",
   "execution_count": 10,
   "id": "5e1045e0",
   "metadata": {},
   "outputs": [
    {
     "name": "stdout",
     "output_type": "stream",
     "text": [
      "Type I Error: 0.0002\n",
      "Type II Error: 0.9000\n",
      "Accuracy: 0.9953961715531864\n",
      "Balanced Accuracy: 0.5498782566350134\n"
     ]
    }
   ],
   "source": [
    "rf = RandomForestClassifier(random_state=7).fit(X_train, y_train)\n",
    "cm = confusion_matrix(rf.predict(X_test),y_test)\n",
    "TP = cm[1,1]     \n",
    "TN = cm[0,0]\n",
    "FN = cm[0,1]\n",
    "FP = cm[1,0]\n",
    "N = TN+FP\n",
    "P = TP+FN\n",
    "#recall = TP / float(TP + FN)\n",
    "#precision = TP / float(TP + FP)\n",
    "\n",
    "print(f'Type I Error: {FP/N:.4f}')\n",
    "print(f'Type II Error: {FN/P:.4f}')\n",
    "\n",
    "print(f'Accuracy: {accuracy_score(y_test, rf.predict(X_test))}')\n",
    "#print(f'ROC AUC Score: {roc_auc_score(y_test, rf.predict_proba(X_test)[:, 1])}')\n",
    "\n",
    "print(f'Balanced Accuracy: {(TP/P+TN/N)/2}')"
   ]
  },
  {
   "cell_type": "code",
   "execution_count": 16,
   "id": "a1a86b44",
   "metadata": {},
   "outputs": [
    {
     "data": {
      "text/plain": [
       "0.5186586850574133"
      ]
     },
     "execution_count": 16,
     "metadata": {},
     "output_type": "execute_result"
    }
   ],
   "source": [
    "cross_val_score(RandomForestClassifier(), X_train, y_train, cv = 10, scoring='balanced_accuracy').mean()"
   ]
  },
  {
   "cell_type": "code",
   "execution_count": 35,
   "id": "c90dd0f4",
   "metadata": {},
   "outputs": [
    {
     "data": {
      "text/plain": [
       "0.08"
      ]
     },
     "execution_count": 35,
     "metadata": {},
     "output_type": "execute_result"
    }
   ],
   "source": [
    "cross_val_score(LogisticRegression(solver='liblinear'), train_df_new, train_df['faulty'], cv = 10, scoring='recall').mean()"
   ]
  },
  {
   "cell_type": "code",
   "execution_count": 22,
   "id": "d70bd47e",
   "metadata": {},
   "outputs": [
    {
     "data": {
      "text/plain": [
       "0.5"
      ]
     },
     "execution_count": 22,
     "metadata": {},
     "output_type": "execute_result"
    }
   ],
   "source": [
    "cross_val_score(SVC(kernel='linear'), train_df_new, train_df['faulty'], cv = 10, scoring='balanced_accuracy').mean()"
   ]
  },
  {
   "cell_type": "code",
   "execution_count": 23,
   "id": "34f3d8cc",
   "metadata": {},
   "outputs": [
    {
     "data": {
      "text/plain": [
       "0.6224125456018705"
      ]
     },
     "execution_count": 23,
     "metadata": {},
     "output_type": "execute_result"
    }
   ],
   "source": [
    "cross_val_score(LinearDiscriminantAnalysis(), X_train, y_train, cv = 10, scoring='balanced_accuracy').mean()"
   ]
  },
  {
   "cell_type": "code",
   "execution_count": 30,
   "id": "55d8d718",
   "metadata": {},
   "outputs": [
    {
     "data": {
      "text/plain": [
       "0.4"
      ]
     },
     "execution_count": 30,
     "metadata": {},
     "output_type": "execute_result"
    }
   ],
   "source": [
    "#type 2 error\n",
    "1-cross_val_score(QuadraticDiscriminantAnalysis(), X_train, y_train, cv = 10, scoring='recall').mean()"
   ]
  },
  {
   "cell_type": "code",
   "execution_count": 31,
   "id": "f211f4db",
   "metadata": {},
   "outputs": [
    {
     "data": {
      "text/plain": [
       "1.0"
      ]
     },
     "execution_count": 31,
     "metadata": {},
     "output_type": "execute_result"
    }
   ],
   "source": [
    "1-cross_val_score(GaussianNB(), X_train, y_train, cv = 10, scoring='recall').mean()\n"
   ]
  },
  {
   "cell_type": "code",
   "execution_count": 27,
   "id": "d47c97f5",
   "metadata": {},
   "outputs": [
    {
     "data": {
      "text/plain": [
       "array([0.5, 0.5, 0.5, 0.5, 0.5, 0.5, 0.5, 0.5, 0.5, 0.5])"
      ]
     },
     "execution_count": 27,
     "metadata": {},
     "output_type": "execute_result"
    }
   ],
   "source": [
    "scaler = StandardScaler()\n",
    "scaler.fit(X_train)\n",
    "X_train_scaled = scaler.transform(X_train)\n",
    "\n",
    "cross_val_score(KNeighborsClassifier(n_neighbors=20), X_train_scaled, y_train, cv = 10, scoring='balanced_accuracy')"
   ]
  },
  {
   "cell_type": "code",
   "execution_count": 34,
   "id": "a873f2c2",
   "metadata": {},
   "outputs": [
    {
     "data": {
      "text/plain": [
       "0.8625"
      ]
     },
     "execution_count": 34,
     "metadata": {},
     "output_type": "execute_result"
    }
   ],
   "source": [
    "1-cross_val_score(xgb.XGBClassifier(), X_train, y_train, cv = 10, scoring='recall').mean()   #scaling doesn't affect"
   ]
  },
  {
   "cell_type": "code",
   "execution_count": null,
   "id": "3f8f8700",
   "metadata": {},
   "outputs": [],
   "source": [
    "#QDA, Random Forest and Naive Bayes seem to be the best models in terms of type II error"
   ]
  },
  {
   "cell_type": "code",
   "execution_count": 37,
   "id": "44cd0164",
   "metadata": {},
   "outputs": [
    {
     "name": "stdout",
     "output_type": "stream",
     "text": [
      "Type I Error: 0.0816\n",
      "Type II Error: 0.0000\n",
      "Accuracy: 0.9188272352798643\n",
      "Balanced Accuracy: 0.9592159727294862\n"
     ]
    }
   ],
   "source": [
    "nb = GaussianNB().fit(X_train, y_train)\n",
    "cm = confusion_matrix(nb.predict(X_test),y_test)\n",
    "TP = cm[1,1]     \n",
    "TN = cm[0,0]\n",
    "FN = cm[0,1]\n",
    "FP = cm[1,0]\n",
    "N = TN+FP\n",
    "P = TP+FN\n",
    "#recall = TP / float(TP + FN)\n",
    "#precision = TP / float(TP + FP)\n",
    "\n",
    "print(f'Type I Error: {FP/N:.4f}')\n",
    "print(f'Type II Error: {FN/P:.4f}')\n",
    "\n",
    "print(f'Accuracy: {accuracy_score(y_test, nb.predict(X_test))}')\n",
    "#print(f'ROC AUC Score: {roc_auc_score(y_test, rf.predict_proba(X_test)[:, 1])}')\n",
    "\n",
    "print(f'Balanced Accuracy: {(TP/P+TN/N)/2}')"
   ]
  },
  {
   "cell_type": "code",
   "execution_count": 107,
   "id": "32cc94e0",
   "metadata": {},
   "outputs": [],
   "source": [
    "#changing the threshold\n",
    "threshold = [0.9,0.99,0.999,0.999,0.9999,0.99999,0.999999]  #,0.8,0.9,0.95,0.99,0.999]\n",
    "qda_typ2=[]\n",
    "qda_bal_acc=[]\n",
    "qda_acc=[]\n",
    "\n",
    "for i in threshold:\n",
    "    random_forest = GaussianNB().fit(X_train, y_train)\n",
    "    predicted_proba = random_forest.predict_proba(X_test)\n",
    "    predicted = (predicted_proba [:,1] >= i)          #.astype('int')\n",
    "    cm = confusion_matrix(predicted, y_test )\n",
    "    \n",
    "    TP = cm[1,1]     \n",
    "    TN = cm[0,0]\n",
    "    FN = cm[0,1]\n",
    "    FP = cm[1,0]\n",
    "    N = TN+FP\n",
    "    P = TP+FN\n",
    "    \n",
    "    qda_typ2.append(FN/P)\n",
    "    qda_bal_acc.append((TP/P+TN/N)/2)\n",
    "    qda_acc.append((TP+TN)/len(y_test))"
   ]
  },
  {
   "cell_type": "code",
   "execution_count": 108,
   "id": "06d6be67",
   "metadata": {},
   "outputs": [
    {
     "data": {
      "text/plain": [
       "Text(0.5, 1.0, 'Naive Bayes')"
      ]
     },
     "execution_count": 108,
     "metadata": {},
     "output_type": "execute_result"
    },
    {
     "data": {
      "image/png": "[encoded data removed]",
      "text/plain": [
       "<Figure size 640x480 with 1 Axes>"
      ]
     },
     "metadata": {},
     "output_type": "display_data"
    }
   ],
   "source": [
    "plt.figure()\n",
    "plt.plot(threshold,qda_typ2,label=\"Type 2 Error\")\n",
    "plt.plot(threshold,qda_bal_acc,label=\"Balanced Accuracy\")\n",
    "plt.plot(threshold,qda_acc,label=\"Accuracy\")\n",
    "plt.legend()\n",
    "plt.xlabel('Threshold')\n",
    "plt.title(\"Naive Bayes\")"
   ]
  },
  {
   "cell_type": "code",
   "execution_count": 111,
   "id": "c19db2bb",
   "metadata": {},
   "outputs": [
    {
     "name": "stdout",
     "output_type": "stream",
     "text": [
      "[0.0, 0.0, 0.1, 0.1, 0.2, 0.5, 0.75, 0.85, 1.0]\n",
      "[0.9735816897979059, 0.9735816897979059, 0.9375821767713659, 0.9420866812758705, 0.8970781592403214, 0.7491477964450937, 0.6248782566350134, 0.5748782566350134, 0.5]\n"
     ]
    }
   ],
   "source": [
    "#just to see the pattern of type2 error and balanced accuracy\n",
    "print(rf_typ2)\n",
    "print(rf_bal_acc)"
   ]
  },
  {
   "cell_type": "code",
   "execution_count": 116,
   "id": "71b86347",
   "metadata": {},
   "outputs": [
    {
     "name": "stdout",
     "output_type": "stream",
     "text": [
      "[0.0, 0.0, 0.0, 0.0, 0.0, 0.0, 0.0, 0.0, 0.0, 0.0, 0.0, 0.0, 0.0, 0.0]\n",
      "[0.9526418310202094, 0.954589724859995, 0.9553201850499148, 0.9565376186997809, 0.9578767957146336, 0.9586072559045532, 0.9592159727294862, 0.9597029461894326, 0.960555149744339, 0.9614073532992452, 0.9625030435841246, 0.9637204772339907, 0.9667640613586559, 0.9684684684684685]\n"
     ]
    }
   ],
   "source": [
    "print(nb_typ2)\n",
    "print(nb_bal_acc)"
   ]
  },
  {
   "cell_type": "code",
   "execution_count": 109,
   "id": "7d766bc6",
   "metadata": {},
   "outputs": [
    {
     "name": "stdout",
     "output_type": "stream",
     "text": [
      "[0.0, 0.0, 0.0, 0.0, 0.0, 0.0, 0.0]\n",
      "[0.9625030435841246, 0.9667640613586559, 0.9684684684684685, 0.9684684684684685, 0.9716337959581203, 0.9738251765278793, 0.9761383004626247]\n",
      "[0.9253695178095469, 0.9338502544220983, 0.937242549067119, 0.937242549067119, 0.943542524836443, 0.947904046522898, 0.9525078749697117]\n"
     ]
    }
   ],
   "source": [
    "print(qda_typ2)\n",
    "print(qda_bal_acc)\n",
    "print(qda_acc)"
   ]
  },
  {
   "cell_type": "code",
   "execution_count": 110,
   "id": "a76a52e5",
   "metadata": {},
   "outputs": [],
   "source": [
    "threshold = [0.1,0.2,0.3,0.4,0.5,0.6,0.7,0.8,0.9,0.95,0.99,0.999,0.99999]\n",
    "\n",
    "rf_t2_all=[]\n",
    "rf_ba_all=[]\n",
    "\n",
    "nb_t2_all=[]\n",
    "nb_ba_all=[]\n",
    "\n",
    "for j in range(10):\n",
    "            train, test = train_test_split(train_df, random_state=10*j, test_size = 0.2, stratify=train_df.faulty)\n",
    "            X_train = train.drop(columns=[\"RUL\",\"unit_number\",\"faulty\",\"P15\"])   #for simulation 1\n",
    "            y_train = train['faulty']\n",
    "            X_test = test.drop(columns=[\"RUL\",\"unit_number\",\"faulty\",\"P15\"])\n",
    "            y_test = test['faulty']\n",
    "\n",
    "            model = GaussianNB().fit(X_train, y_train)\n",
    "            #model = RandomForestClassifier().fit(X_train, y_train)\n",
    "            rf_t2=[]\n",
    "            rf_ba=[]\n",
    "            for i in threshold:\n",
    "                \n",
    "                predicted_proba = model.predict_proba(X_test)\n",
    "                predicted = (predicted_proba [:,1] >= i)          #.astype('int')\n",
    "        \n",
    "                cm = confusion_matrix(predicted, y_test )\n",
    "    \n",
    "                TP = cm[1,1]     \n",
    "                TN = cm[0,0]\n",
    "                FN = cm[0,1]\n",
    "                FP = cm[1,0]\n",
    "                N = TN+FP\n",
    "                P = TP+FN\n",
    "        \n",
    "                rf_t2.append(FN/P)\n",
    "                rf_ba.append((TP/P+TN/N)/2)\n",
    "\n",
    "            #nb_t2_all.append(rf_t2)\n",
    "            #nb_ba_all.append(rf_ba)\n",
    "            \n",
    "            rf_t2_all.append(rf_t2)\n",
    "            rf_ba_all.append(rf_ba)\n",
    "    \n",
    "    \n",
    "    "
   ]
  },
  {
   "cell_type": "code",
   "execution_count": 111,
   "id": "ab625b0f",
   "metadata": {},
   "outputs": [
    {
     "data": {
      "image/png": "[encoded data removed]",
      "text/plain": [
       "<Figure size 640x480 with 1 Axes>"
      ]
     },
     "metadata": {},
     "output_type": "display_data"
    }
   ],
   "source": [
    "test_fpr, test_tpr, te_thresholds = sklearn.metrics.roc_curve(y_test, GaussianNB().fit(X_train, y_train).predict_proba(X_test)[:,1])\n",
    "test_fpr1, test_tpr1, te_thresholds = sklearn.metrics.roc_curve(y_test, GaussianNB().fit(X_train, y_train).predict_proba(X_test)[:,1]>=0.1)\n",
    "\n",
    "plt.grid()\n",
    "\n",
    "\n",
    "plt.plot(test_fpr, test_tpr, label=\" AUC TEST =\"+str(round(auc(test_fpr, test_tpr),4)))\n",
    "plt.plot(test_fpr1, test_tpr1, label=\" AUC TEST thr.:0.99999 =\"+str(round(auc(test_fpr1, test_tpr1),4)))\n",
    "plt.plot([0,1],[0,1],'g--')\n",
    "plt.legend()\n",
    "plt.xlabel(\"False Positive Rate\")\n",
    "plt.ylabel(\"True Positive Rate\")\n",
    "plt.title(\"AUC(ROC curve) for Naive Bayes\")\n",
    "plt.grid(color='black', linestyle='-', linewidth=0.5)\n",
    "plt.show()"
   ]
  },
  {
   "cell_type": "code",
   "execution_count": 81,
   "id": "3135086e",
   "metadata": {},
   "outputs": [],
   "source": [
    "#sklearn.metrics.get_scorer_names()"
   ]
  },
  {
   "cell_type": "code",
   "execution_count": 11,
   "id": "409d4714",
   "metadata": {},
   "outputs": [],
   "source": [
    "#undersampling\n",
    "nr = NearMiss()\n",
    "  \n",
    "X_train_miss, y_train_miss = nr.fit_resample(X_train, y_train.to_numpy())\n",
    "X_test_miss, y_test_miss = nr.fit_resample(X_test, y_test.to_numpy())"
   ]
  },
  {
   "cell_type": "code",
   "execution_count": 12,
   "id": "3eba894a-f0df-45c2-ab56-1410e4bd3ddf",
   "metadata": {},
   "outputs": [
    {
     "name": "stdout",
     "output_type": "stream",
     "text": [
      "Type I Error: 0.0156\n",
      "Type II Error: 0.2500\n",
      "Accuracy: 0.775\n",
      "ROC AUC Score: 0.8675\n"
     ]
    }
   ],
   "source": [
    "logreg = LogisticRegression(solver='liblinear', random_state=42).fit(X_train_miss, y_train_miss)\n",
    "cm = confusion_matrix(logreg.predict(X_test),y_test)\n",
    "TP = cm[1,1]     \n",
    "TN = cm[0,0]\n",
    "FN = cm[0,1]\n",
    "FP = cm[1,0]\n",
    "N = TN+FP\n",
    "P = TP+FN\n",
    "#recall = TP / float(TP + FN)\n",
    "#precision = TP / float(TP + FP)\n",
    "\n",
    "print(f'Type I Error: {FP/N:.4f}')\n",
    "print(f'Type II Error: {FN/P:.4f}')\n",
    "\n",
    "print(f'Accuracy: {accuracy_score(y_test_miss, logreg.predict(X_test_miss))}')\n",
    "print(f'ROC AUC Score: {roc_auc_score(y_test_miss, logreg.predict_proba(X_test_miss)[:, 1])}')\n"
   ]
  },
  {
   "cell_type": "code",
   "execution_count": 13,
   "id": "ca33b32a",
   "metadata": {},
   "outputs": [
    {
     "name": "stdout",
     "output_type": "stream",
     "text": [
      "Type I Error: 0.0419\n",
      "Type II Error: 0.0500\n",
      "Accuracy: 0.825\n",
      "ROC AUC Score: 0.91125\n"
     ]
    }
   ],
   "source": [
    "rf = RandomForestClassifier(random_state=7).fit(X_train_miss, y_train_miss)\n",
    "cm = confusion_matrix(rf.predict(X_test),y_test)\n",
    "TP = cm[1,1]     \n",
    "TN = cm[0,0]\n",
    "FN = cm[0,1]\n",
    "FP = cm[1,0]\n",
    "N = TN+FP\n",
    "P = TP+FN\n",
    "#recall = TP / float(TP + FN)\n",
    "#precision = TP / float(TP + FP)\n",
    "\n",
    "print(f'Type I Error: {FP/N:.4f}')\n",
    "print(f'Type II Error: {FN/P:.4f}')\n",
    "\n",
    "print(f'Accuracy: {accuracy_score(y_test_miss, rf.predict(X_test_miss))}')\n",
    "print(f'ROC AUC Score: {roc_auc_score(y_test_miss, rf.predict_proba(X_test_miss)[:, 1])}')\n",
    "\n"
   ]
  },
  {
   "cell_type": "code",
   "execution_count": 15,
   "id": "92c3aaaa",
   "metadata": {},
   "outputs": [
    {
     "name": "stdout",
     "output_type": "stream",
     "text": [
      "Type I Error: 0.9929\n",
      "Type II Error: 0.0000\n",
      "Accuracy: 0.825\n",
      "ROC AUC Score: 0.91125\n"
     ]
    }
   ],
   "source": [
    "rf = RandomForestClassifier(random_state=7).fit(X_train_miss, y_train_miss)\n",
    "\n",
    "predicted_proba = rf.predict_proba(X_test)\n",
    "predicted = (predicted_proba [:,1] >= 0.1)          #.astype('int')\n",
    "cm = confusion_matrix(predicted, y_test )\n",
    "\n",
    "TP = cm[1,1]     \n",
    "TN = cm[0,0]\n",
    "FN = cm[0,1]\n",
    "FP = cm[1,0]\n",
    "N = TN+FP\n",
    "P = TP+FN\n",
    "#recall = TP / float(TP + FN)\n",
    "#precision = TP / float(TP + FP)\n",
    "\n",
    "print(f'Type I Error: {FP/N:.4f}')\n",
    "print(f'Type II Error: {FN/P:.4f}')\n",
    "\n",
    "print(f'Accuracy: {accuracy_score(y_test_miss, rf.predict(X_test_miss))}')\n",
    "print(f'ROC AUC Score: {roc_auc_score(y_test_miss, rf.predict_proba(X_test_miss)[:, 1])}')\n",
    "\n"
   ]
  },
  {
   "cell_type": "code",
   "execution_count": null,
   "id": "cf6beacb",
   "metadata": {},
   "outputs": [],
   "source": []
  }
 ],
 "metadata": {
  "kernelspec": {
   "display_name": "Python [conda env:root] *",
   "language": "python",
   "name": "conda-root-py"
  },
  "language_info": {
   "codemirror_mode": {
    "name": "ipython",
    "version": 3
   },
   "file_extension": ".py",
   "mimetype": "text/x-python",
   "name": "python",
   "nbconvert_exporter": "python",
   "pygments_lexer": "ipython3",
   "version": "3.9.18"
  }
 },
 "nbformat": 4,
 "nbformat_minor": 5
}
